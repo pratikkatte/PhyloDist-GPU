{
 "cells": [
  {
   "cell_type": "code",
   "execution_count": 29,
   "id": "b4337d3b",
   "metadata": {},
   "outputs": [
    {
     "name": "stdout",
     "output_type": "stream",
     "text": [
      "[[  0   1   2   3   0   1]\n",
      " [  0   1   2   3   3   1]\n",
      " [  0   1   2 255 255   1]\n",
      " [  0   1   2   3   0   0]]\n"
     ]
    }
   ],
   "source": [
    "# scripts/encode_fasta.py\n",
    "import sys, numpy as np\n",
    "\n",
    "map4 = {ord('A'):0, ord('C'):1, ord('G'):2, ord('T'):3, ord('-'):255}\n",
    "\n",
    "name, seqs = None, []\n",
    "file_name = \"tiny.fa\"\n",
    "\n",
    "for line in open(file_name):\n",
    "    line = line.strip()\n",
    "    if not line: continue\n",
    "    if line.startswith('>'):\n",
    "        name = line[1:]\n",
    "    else:\n",
    "        if name:\n",
    "            seqs.append(line)\n",
    "            name = None\n",
    "\n",
    "N, M = len(seqs), len(seqs[0])\n",
    "arr = np.empty((N,M), dtype=np.uint8)\n",
    "\n",
    "for i,s in enumerate(seqs):\n",
    "    assert len(s)==M\n",
    "    arr[i,:] = np.frombuffer(s.encode(), dtype=np.uint8)\n",
    "\n",
    "arr = np.vectorize(lambda b: map4.get(b,255))(arr)\n",
    "# arr.tofile(sys.argv[2])     # raw binary row-major (N*M bytes)\n",
    "print(arr)"
   ]
  },
  {
   "cell_type": "code",
   "execution_count": 1,
   "id": "5465e585",
   "metadata": {},
   "outputs": [
    {
     "name": "stdout",
     "output_type": "stream",
     "text": [
      "[[0.         0.16666667 0.16666667 0.        ]\n",
      " [0.16666667 0.         0.33333334 0.16666667]\n",
      " [0.16666667 0.33333334 0.         0.16666667]\n",
      " [0.         0.16666667 0.16666667 0.        ]]\n"
     ]
    }
   ],
   "source": [
    "import numpy as np\n",
    "\n",
    "# adjust N to the number of sequences in your alignment\n",
    "N = 4   # for the toy example\n",
    "matrix = np.fromfile(\"../cpu_dist.bin\", dtype=np.float32).reshape((N, N))\n",
    "\n",
    "print(matrix)\n"
   ]
  },
  {
   "cell_type": "code",
   "execution_count": null,
   "id": "e5ee1ae1",
   "metadata": {},
   "outputs": [],
   "source": []
  }
 ],
 "metadata": {
  "kernelspec": {
   "display_name": "base",
   "language": "python",
   "name": "python3"
  },
  "language_info": {
   "codemirror_mode": {
    "name": "ipython",
    "version": 3
   },
   "file_extension": ".py",
   "mimetype": "text/x-python",
   "name": "python",
   "nbconvert_exporter": "python",
   "pygments_lexer": "ipython3",
   "version": "3.12.7"
  }
 },
 "nbformat": 4,
 "nbformat_minor": 5
}
